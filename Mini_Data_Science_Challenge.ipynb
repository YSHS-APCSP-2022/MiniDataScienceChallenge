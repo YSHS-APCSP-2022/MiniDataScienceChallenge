{
  "nbformat": 4,
  "nbformat_minor": 0,
  "metadata": {
    "colab": {
      "provenance": [],
      "authorship_tag": "ABX9TyM0kQMv0c/qkWNrBKnEOGC3",
      "include_colab_link": true
    },
    "kernelspec": {
      "name": "python3",
      "display_name": "Python 3"
    },
    "language_info": {
      "name": "python"
    }
  },
  "cells": [
    {
      "cell_type": "markdown",
      "metadata": {
        "id": "view-in-github",
        "colab_type": "text"
      },
      "source": [
        "<a href=\"https://colab.research.google.com/github/YSHS-APCSP-2022/MiniDataScienceChallenge/blob/main/Mini_Data_Science_Challenge.ipynb\" target=\"_parent\"><img src=\"https://colab.research.google.com/assets/colab-badge.svg\" alt=\"Open In Colab\"/></a>"
      ]
    },
    {
      "cell_type": "markdown",
      "source": [
        "#Mini Data Science Challenge\n",
        "1. Explore some of the open datasets that the organizations [538](https://data.fivethirtyeight.com/) and [propublica](https://www.propublica.org/datastore/datasets) have made available\n",
        "2. Pick one dataset that looks interesting to explore\n",
        "3. Based on the dataset come up with a question that you can answer by visualizing the data\n",
        "4. Generate at least 1 graph that helps answer that question\n",
        "5. In a text cell below your graph, write a short paragraph detailing what you learned."
      ],
      "metadata": {
        "id": "udb_rTwDzyrR"
      }
    },
    {
      "cell_type": "code",
      "source": [],
      "metadata": {
        "id": "sdw62iJC0e3h"
      },
      "execution_count": null,
      "outputs": []
    }
  ]
}